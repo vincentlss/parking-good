{
 "cells": [
  {
   "cell_type": "code",
   "execution_count": 3,
   "metadata": {
    "ExecuteTime": {
     "end_time": "2019-09-22T07:36:10.412340Z",
     "start_time": "2019-09-22T07:36:10.250177Z"
    }
   },
   "outputs": [],
   "source": [
    "import requests \n",
    "import datetime\n",
    "URL = \"https://api.data.gov.sg/v1/transport/carpark-availability\""
   ]
  },
  {
   "cell_type": "code",
   "execution_count": 4,
   "metadata": {
    "ExecuteTime": {
     "end_time": "2019-09-22T07:36:12.229834Z",
     "start_time": "2019-09-22T07:36:12.226843Z"
    }
   },
   "outputs": [],
   "source": [
    "from datetime import datetime, timedelta\n",
    "now = datetime.now()\n",
    "\n",
    "def hour_rounder(t):\n",
    "    # Rounds to nearest hour by adding a timedelta hour if minute >= 30\n",
    "    return (t.replace(second=0, microsecond=0, minute=0, hour=t.hour))"
   ]
  },
  {
   "cell_type": "code",
   "execution_count": 5,
   "metadata": {
    "ExecuteTime": {
     "end_time": "2019-09-22T07:36:12.736670Z",
     "start_time": "2019-09-22T07:36:12.734519Z"
    }
   },
   "outputs": [],
   "source": [
    "time_now = hour_rounder(now)"
   ]
  },
  {
   "cell_type": "code",
   "execution_count": 3,
   "metadata": {
    "ExecuteTime": {
     "end_time": "2019-09-15T11:06:01.472234Z",
     "start_time": "2019-09-15T10:10:28.198699Z"
    }
   },
   "outputs": [
    {
     "name": "stdout",
     "output_type": "stream",
     "text": [
      "2019-09-12T23:00:00\n",
      "2019-09-11T03:00:00\n",
      "2019-09-08T10:00:00\n",
      "2019-09-05T20:00:00\n",
      "2019-08-26T21:00:00\n",
      "2019-08-23T06:00:00\n",
      "2019-08-22T16:00:00\n",
      "2019-08-20T06:00:00\n",
      "2019-08-20T00:00:00\n",
      "2019-08-18T04:00:00\n",
      "2019-08-17T23:00:00\n",
      "2019-08-17T15:00:00\n",
      "2019-08-16T12:00:00\n",
      "2019-08-16T09:00:00\n",
      "2019-08-15T07:00:00\n",
      "2019-08-15T01:00:00\n",
      "2019-08-14T20:00:00\n",
      "2019-08-14T20:00:00\n",
      "2019-08-14T13:00:00\n",
      "2019-08-14T08:00:00\n",
      "2019-08-14T05:00:00\n",
      "2019-08-14T05:00:00\n",
      "2019-08-13T20:00:00\n",
      "2019-08-13T17:00:00\n",
      "2019-08-13T13:00:00\n",
      "2019-08-13T13:00:00\n",
      "2019-08-13T08:00:00\n",
      "2019-08-12T20:00:00\n",
      "2019-08-12T15:00:00\n",
      "2019-08-12T13:00:00\n",
      "2019-08-12T12:00:00\n",
      "2019-08-12T07:00:00\n",
      "2019-08-12T03:00:00\n",
      "2019-08-12T03:00:00\n",
      "2019-08-11T23:00:00\n",
      "2019-08-11T21:00:00\n",
      "2019-08-11T21:00:00\n",
      "2019-08-05T01:00:00\n",
      "2019-08-02T17:00:00\n",
      "2019-08-01T07:00:00\n",
      "2019-07-30T08:00:00\n"
     ]
    }
   ],
   "source": [
    "# sending get request and saving the response as response object \n",
    "x = hour_rounder(now)\n",
    "big_d = dict()\n",
    "i = 0\n",
    "while (i<1344):\n",
    "    try:\n",
    "        z = x\n",
    "        if x.hour == 0:\n",
    "            z += timedelta(seconds = 80)\n",
    "        z = str(z).replace(' ', 'T')\n",
    "        y = str(x).replace(' ', 'T')\n",
    "        r = requests.get(url = URL +'?date_time=' + z)\n",
    "        data = r.json()\n",
    "        big_d[y] = data['items'][0]['carpark_data']\n",
    "        x -= timedelta(hours = 1)\n",
    "        i += 1\n",
    "    except:\n",
    "        print(y)"
   ]
  },
  {
   "cell_type": "code",
   "execution_count": 7,
   "metadata": {
    "ExecuteTime": {
     "end_time": "2019-09-22T07:36:19.740898Z",
     "start_time": "2019-09-22T07:36:19.340552Z"
    }
   },
   "outputs": [],
   "source": [
    "import pandas as pd"
   ]
  },
  {
   "cell_type": "code",
   "execution_count": 5,
   "metadata": {
    "ExecuteTime": {
     "end_time": "2019-09-15T11:07:10.481226Z",
     "start_time": "2019-09-15T11:07:10.473601Z"
    }
   },
   "outputs": [
    {
     "data": {
      "text/plain": [
       "1344"
      ]
     },
     "execution_count": 5,
     "metadata": {},
     "output_type": "execute_result"
    }
   ],
   "source": [
    "len(big_d)"
   ]
  },
  {
   "cell_type": "code",
   "execution_count": 9,
   "metadata": {
    "ExecuteTime": {
     "end_time": "2019-09-22T07:36:23.910680Z",
     "start_time": "2019-09-22T07:36:23.898029Z"
    }
   },
   "outputs": [
    {
     "ename": "NameError",
     "evalue": "name 'big_d' is not defined",
     "output_type": "error",
     "traceback": [
      "\u001b[0;31m---------------------------------------------------------------------------\u001b[0m",
      "\u001b[0;31mNameError\u001b[0m                                 Traceback (most recent call last)",
      "\u001b[0;32m<ipython-input-9-5253495add39>\u001b[0m in \u001b[0;36m<module>\u001b[0;34m\u001b[0m\n\u001b[1;32m      1\u001b[0m \u001b[0mout_lst\u001b[0m \u001b[0;34m=\u001b[0m \u001b[0;34m[\u001b[0m\u001b[0;34m]\u001b[0m\u001b[0;34m\u001b[0m\u001b[0;34m\u001b[0m\u001b[0m\n\u001b[0;32m----> 2\u001b[0;31m \u001b[0;32mfor\u001b[0m \u001b[0mdate\u001b[0m \u001b[0;32min\u001b[0m \u001b[0mbig_d\u001b[0m\u001b[0;34m:\u001b[0m\u001b[0;34m\u001b[0m\u001b[0;34m\u001b[0m\u001b[0m\n\u001b[0m\u001b[1;32m      3\u001b[0m     \u001b[0;32mfor\u001b[0m \u001b[0md\u001b[0m \u001b[0;32min\u001b[0m \u001b[0mbig_d\u001b[0m\u001b[0;34m[\u001b[0m\u001b[0mdate\u001b[0m\u001b[0;34m]\u001b[0m\u001b[0;34m:\u001b[0m\u001b[0;34m\u001b[0m\u001b[0;34m\u001b[0m\u001b[0m\n\u001b[1;32m      4\u001b[0m         \u001b[0min_lst\u001b[0m\u001b[0;34m=\u001b[0m \u001b[0mlist\u001b[0m\u001b[0;34m(\u001b[0m\u001b[0md\u001b[0m\u001b[0;34m[\u001b[0m\u001b[0;34m'carpark_info'\u001b[0m\u001b[0;34m]\u001b[0m\u001b[0;34m[\u001b[0m\u001b[0;36m0\u001b[0m\u001b[0;34m]\u001b[0m\u001b[0;34m.\u001b[0m\u001b[0mvalues\u001b[0m\u001b[0;34m(\u001b[0m\u001b[0;34m)\u001b[0m\u001b[0;34m)\u001b[0m\u001b[0;34m\u001b[0m\u001b[0;34m\u001b[0m\u001b[0m\n\u001b[1;32m      5\u001b[0m         \u001b[0min_lst\u001b[0m\u001b[0;34m.\u001b[0m\u001b[0mappend\u001b[0m\u001b[0;34m(\u001b[0m\u001b[0md\u001b[0m\u001b[0;34m[\u001b[0m\u001b[0;34m'carpark_number'\u001b[0m\u001b[0;34m]\u001b[0m\u001b[0;34m)\u001b[0m\u001b[0;34m\u001b[0m\u001b[0;34m\u001b[0m\u001b[0m\n",
      "\u001b[0;31mNameError\u001b[0m: name 'big_d' is not defined"
     ]
    }
   ],
   "source": [
    "out_lst = []\n",
    "for date in big_d:\n",
    "    for d in big_d[date]:\n",
    "        in_lst= list(d['carpark_info'][0].values())\n",
    "        in_lst.append(d['carpark_number'])\n",
    "        in_lst.append(d['update_datetime'])\n",
    "        in_lst.append(date)\n",
    "        out_lst.append(in_lst)\n",
    "    "
   ]
  },
  {
   "cell_type": "code",
   "execution_count": 8,
   "metadata": {
    "ExecuteTime": {
     "end_time": "2019-09-22T07:36:21.522449Z",
     "start_time": "2019-09-22T07:36:21.496563Z"
    }
   },
   "outputs": [
    {
     "ename": "NameError",
     "evalue": "name 'out_lst' is not defined",
     "output_type": "error",
     "traceback": [
      "\u001b[0;31m---------------------------------------------------------------------------\u001b[0m",
      "\u001b[0;31mNameError\u001b[0m                                 Traceback (most recent call last)",
      "\u001b[0;32m<ipython-input-8-a4149d16cd91>\u001b[0m in \u001b[0;36m<module>\u001b[0;34m\u001b[0m\n\u001b[0;32m----> 1\u001b[0;31m \u001b[0mdf\u001b[0m \u001b[0;34m=\u001b[0m \u001b[0mpd\u001b[0m\u001b[0;34m.\u001b[0m\u001b[0mDataFrame\u001b[0m\u001b[0;34m(\u001b[0m\u001b[0mout_lst\u001b[0m\u001b[0;34m)\u001b[0m\u001b[0;34m\u001b[0m\u001b[0;34m\u001b[0m\u001b[0m\n\u001b[0m",
      "\u001b[0;31mNameError\u001b[0m: name 'out_lst' is not defined"
     ]
    }
   ],
   "source": [
    "df = pd.DataFrame(out_lst)"
   ]
  },
  {
   "cell_type": "code",
   "execution_count": 9,
   "metadata": {
    "ExecuteTime": {
     "end_time": "2019-09-15T11:08:34.083167Z",
     "start_time": "2019-09-15T11:08:34.079827Z"
    }
   },
   "outputs": [],
   "source": [
    "df.columns = ['Total', 'Type', 'Available', 'ID', 'update_datetime','Date']"
   ]
  },
  {
   "cell_type": "code",
   "execution_count": 11,
   "metadata": {
    "ExecuteTime": {
     "end_time": "2019-09-15T11:09:55.943301Z",
     "start_time": "2019-09-15T11:09:55.523448Z"
    }
   },
   "outputs": [],
   "source": [
    "df = df.drop('update_datetime', axis = 1)"
   ]
  },
  {
   "cell_type": "code",
   "execution_count": 23,
   "metadata": {
    "ExecuteTime": {
     "end_time": "2019-09-15T11:14:51.746626Z",
     "start_time": "2019-09-15T11:14:46.159260Z"
    }
   },
   "outputs": [],
   "source": [
    "df.to_csv('carpark.csv', index = False)"
   ]
  },
  {
   "cell_type": "code",
   "execution_count": 14,
   "metadata": {
    "ExecuteTime": {
     "end_time": "2019-09-15T11:11:21.542055Z",
     "start_time": "2019-09-15T11:11:14.243431Z"
    }
   },
   "outputs": [],
   "source": [
    "df['hour'] = df.Date.str.split('T', expand= True).iloc[:, 1]"
   ]
  },
  {
   "cell_type": "code",
   "execution_count": 10,
   "metadata": {
    "ExecuteTime": {
     "end_time": "2019-09-22T07:36:35.658295Z",
     "start_time": "2019-09-22T07:36:33.711504Z"
    }
   },
   "outputs": [],
   "source": [
    "df = pd.read_csv('carpark.csv')"
   ]
  },
  {
   "cell_type": "code",
   "execution_count": 11,
   "metadata": {
    "ExecuteTime": {
     "end_time": "2019-09-22T07:36:36.211221Z",
     "start_time": "2019-09-22T07:36:36.206346Z"
    }
   },
   "outputs": [],
   "source": [
    "def get_available_trend(df, dt, carparkid):\n",
    "    reqd_dt = [dt - timedelta(days = 7*i) for i in range(1,9)]\n",
    "    reqd_time  = []\n",
    "    for date in reqd_dt:\n",
    "        for i in range(-4,5):\n",
    "            reqd_time.append(str(date + timedelta(hours = i)).replace(' ', 'T'))\n",
    "    temp_df = df[df.ID == carparkid]\n",
    "    temp_df = temp_df[temp_df.Date.isin(reqd_time)]\n",
    "    return temp_df.groupby('hour').agg(np.mean).round()"
   ]
  },
  {
   "cell_type": "code",
   "execution_count": 12,
   "metadata": {
    "ExecuteTime": {
     "end_time": "2019-09-22T07:36:37.578300Z",
     "start_time": "2019-09-22T07:36:37.441698Z"
    }
   },
   "outputs": [],
   "source": [
    "x = get_available_trend(df, time_now - timedelta(days = 2) , 'RHM')"
   ]
  },
  {
   "cell_type": "code",
   "execution_count": 13,
   "metadata": {
    "ExecuteTime": {
     "end_time": "2019-09-22T07:36:38.015788Z",
     "start_time": "2019-09-22T07:36:38.004623Z"
    }
   },
   "outputs": [
    {
     "data": {
      "text/html": [
       "<div>\n",
       "<style scoped>\n",
       "    .dataframe tbody tr th:only-of-type {\n",
       "        vertical-align: middle;\n",
       "    }\n",
       "\n",
       "    .dataframe tbody tr th {\n",
       "        vertical-align: top;\n",
       "    }\n",
       "\n",
       "    .dataframe thead th {\n",
       "        text-align: right;\n",
       "    }\n",
       "</style>\n",
       "<table border=\"1\" class=\"dataframe\">\n",
       "  <thead>\n",
       "    <tr style=\"text-align: right;\">\n",
       "      <th></th>\n",
       "      <th>Total</th>\n",
       "      <th>Available</th>\n",
       "    </tr>\n",
       "    <tr>\n",
       "      <th>hour</th>\n",
       "      <th></th>\n",
       "      <th></th>\n",
       "    </tr>\n",
       "  </thead>\n",
       "  <tbody>\n",
       "    <tr>\n",
       "      <th>11:00:00</th>\n",
       "      <td>322.0</td>\n",
       "      <td>198.0</td>\n",
       "    </tr>\n",
       "    <tr>\n",
       "      <th>12:00:00</th>\n",
       "      <td>322.0</td>\n",
       "      <td>184.0</td>\n",
       "    </tr>\n",
       "    <tr>\n",
       "      <th>13:00:00</th>\n",
       "      <td>322.0</td>\n",
       "      <td>161.0</td>\n",
       "    </tr>\n",
       "    <tr>\n",
       "      <th>14:00:00</th>\n",
       "      <td>322.0</td>\n",
       "      <td>203.0</td>\n",
       "    </tr>\n",
       "    <tr>\n",
       "      <th>15:00:00</th>\n",
       "      <td>322.0</td>\n",
       "      <td>247.0</td>\n",
       "    </tr>\n",
       "    <tr>\n",
       "      <th>16:00:00</th>\n",
       "      <td>322.0</td>\n",
       "      <td>251.0</td>\n",
       "    </tr>\n",
       "    <tr>\n",
       "      <th>17:00:00</th>\n",
       "      <td>322.0</td>\n",
       "      <td>251.0</td>\n",
       "    </tr>\n",
       "    <tr>\n",
       "      <th>18:00:00</th>\n",
       "      <td>322.0</td>\n",
       "      <td>244.0</td>\n",
       "    </tr>\n",
       "    <tr>\n",
       "      <th>19:00:00</th>\n",
       "      <td>322.0</td>\n",
       "      <td>224.0</td>\n",
       "    </tr>\n",
       "  </tbody>\n",
       "</table>\n",
       "</div>"
      ],
      "text/plain": [
       "          Total  Available\n",
       "hour                      \n",
       "11:00:00  322.0      198.0\n",
       "12:00:00  322.0      184.0\n",
       "13:00:00  322.0      161.0\n",
       "14:00:00  322.0      203.0\n",
       "15:00:00  322.0      247.0\n",
       "16:00:00  322.0      251.0\n",
       "17:00:00  322.0      251.0\n",
       "18:00:00  322.0      244.0\n",
       "19:00:00  322.0      224.0"
      ]
     },
     "execution_count": 13,
     "metadata": {},
     "output_type": "execute_result"
    }
   ],
   "source": [
    "x"
   ]
  },
  {
   "cell_type": "code",
   "execution_count": 32,
   "metadata": {
    "ExecuteTime": {
     "end_time": "2019-09-22T03:21:29.607686Z",
     "start_time": "2019-09-22T03:21:29.580771Z"
    }
   },
   "outputs": [
    {
     "data": {
      "text/html": [
       "<div>\n",
       "<style scoped>\n",
       "    .dataframe tbody tr th:only-of-type {\n",
       "        vertical-align: middle;\n",
       "    }\n",
       "\n",
       "    .dataframe tbody tr th {\n",
       "        vertical-align: top;\n",
       "    }\n",
       "\n",
       "    .dataframe thead th {\n",
       "        text-align: right;\n",
       "    }\n",
       "</style>\n",
       "<table border=\"1\" class=\"dataframe\">\n",
       "  <thead>\n",
       "    <tr style=\"text-align: right;\">\n",
       "      <th></th>\n",
       "      <th>Total</th>\n",
       "      <th>Type</th>\n",
       "      <th>Available</th>\n",
       "      <th>ID</th>\n",
       "      <th>Date</th>\n",
       "      <th>hour</th>\n",
       "    </tr>\n",
       "  </thead>\n",
       "  <tbody>\n",
       "    <tr>\n",
       "      <th>0</th>\n",
       "      <td>83</td>\n",
       "      <td>C</td>\n",
       "      <td>0</td>\n",
       "      <td>HE12</td>\n",
       "      <td>2019-09-15T18:00:00</td>\n",
       "      <td>18:00:00</td>\n",
       "    </tr>\n",
       "    <tr>\n",
       "      <th>1</th>\n",
       "      <td>583</td>\n",
       "      <td>C</td>\n",
       "      <td>385</td>\n",
       "      <td>HLM</td>\n",
       "      <td>2019-09-15T18:00:00</td>\n",
       "      <td>18:00:00</td>\n",
       "    </tr>\n",
       "    <tr>\n",
       "      <th>2</th>\n",
       "      <td>322</td>\n",
       "      <td>C</td>\n",
       "      <td>215</td>\n",
       "      <td>RHM</td>\n",
       "      <td>2019-09-15T18:00:00</td>\n",
       "      <td>18:00:00</td>\n",
       "    </tr>\n",
       "    <tr>\n",
       "      <th>3</th>\n",
       "      <td>97</td>\n",
       "      <td>C</td>\n",
       "      <td>55</td>\n",
       "      <td>BM29</td>\n",
       "      <td>2019-09-15T18:00:00</td>\n",
       "      <td>18:00:00</td>\n",
       "    </tr>\n",
       "    <tr>\n",
       "      <th>4</th>\n",
       "      <td>96</td>\n",
       "      <td>C</td>\n",
       "      <td>53</td>\n",
       "      <td>Q81</td>\n",
       "      <td>2019-09-15T18:00:00</td>\n",
       "      <td>18:00:00</td>\n",
       "    </tr>\n",
       "    <tr>\n",
       "      <th>5</th>\n",
       "      <td>173</td>\n",
       "      <td>C</td>\n",
       "      <td>2</td>\n",
       "      <td>C20</td>\n",
       "      <td>2019-09-15T18:00:00</td>\n",
       "      <td>18:00:00</td>\n",
       "    </tr>\n",
       "    <tr>\n",
       "      <th>6</th>\n",
       "      <td>228</td>\n",
       "      <td>C</td>\n",
       "      <td>179</td>\n",
       "      <td>FR3M</td>\n",
       "      <td>2019-09-15T18:00:00</td>\n",
       "      <td>18:00:00</td>\n",
       "    </tr>\n",
       "    <tr>\n",
       "      <th>7</th>\n",
       "      <td>289</td>\n",
       "      <td>C</td>\n",
       "      <td>170</td>\n",
       "      <td>C32</td>\n",
       "      <td>2019-09-15T18:00:00</td>\n",
       "      <td>18:00:00</td>\n",
       "    </tr>\n",
       "    <tr>\n",
       "      <th>8</th>\n",
       "      <td>332</td>\n",
       "      <td>C</td>\n",
       "      <td>123</td>\n",
       "      <td>C6</td>\n",
       "      <td>2019-09-15T18:00:00</td>\n",
       "      <td>18:00:00</td>\n",
       "    </tr>\n",
       "    <tr>\n",
       "      <th>9</th>\n",
       "      <td>273</td>\n",
       "      <td>C</td>\n",
       "      <td>109</td>\n",
       "      <td>TG2</td>\n",
       "      <td>2019-09-15T18:00:00</td>\n",
       "      <td>18:00:00</td>\n",
       "    </tr>\n",
       "    <tr>\n",
       "      <th>10</th>\n",
       "      <td>543</td>\n",
       "      <td>C</td>\n",
       "      <td>298</td>\n",
       "      <td>BP1</td>\n",
       "      <td>2019-09-15T18:00:00</td>\n",
       "      <td>18:00:00</td>\n",
       "    </tr>\n",
       "    <tr>\n",
       "      <th>11</th>\n",
       "      <td>133</td>\n",
       "      <td>C</td>\n",
       "      <td>73</td>\n",
       "      <td>TG1</td>\n",
       "      <td>2019-09-15T18:00:00</td>\n",
       "      <td>18:00:00</td>\n",
       "    </tr>\n",
       "    <tr>\n",
       "      <th>12</th>\n",
       "      <td>189</td>\n",
       "      <td>C</td>\n",
       "      <td>127</td>\n",
       "      <td>TGM2</td>\n",
       "      <td>2019-09-15T18:00:00</td>\n",
       "      <td>18:00:00</td>\n",
       "    </tr>\n",
       "    <tr>\n",
       "      <th>13</th>\n",
       "      <td>138</td>\n",
       "      <td>C</td>\n",
       "      <td>53</td>\n",
       "      <td>TE14</td>\n",
       "      <td>2019-09-15T18:00:00</td>\n",
       "      <td>18:00:00</td>\n",
       "    </tr>\n",
       "    <tr>\n",
       "      <th>14</th>\n",
       "      <td>48</td>\n",
       "      <td>C</td>\n",
       "      <td>0</td>\n",
       "      <td>BM3</td>\n",
       "      <td>2019-09-15T18:00:00</td>\n",
       "      <td>18:00:00</td>\n",
       "    </tr>\n",
       "    <tr>\n",
       "      <th>15</th>\n",
       "      <td>612</td>\n",
       "      <td>C</td>\n",
       "      <td>121</td>\n",
       "      <td>BM9</td>\n",
       "      <td>2019-09-15T18:00:00</td>\n",
       "      <td>18:00:00</td>\n",
       "    </tr>\n",
       "    <tr>\n",
       "      <th>16</th>\n",
       "      <td>180</td>\n",
       "      <td>C</td>\n",
       "      <td>48</td>\n",
       "      <td>HG44</td>\n",
       "      <td>2019-09-15T18:00:00</td>\n",
       "      <td>18:00:00</td>\n",
       "    </tr>\n",
       "    <tr>\n",
       "      <th>17</th>\n",
       "      <td>80</td>\n",
       "      <td>C</td>\n",
       "      <td>22</td>\n",
       "      <td>HG64</td>\n",
       "      <td>2019-09-15T18:00:00</td>\n",
       "      <td>18:00:00</td>\n",
       "    </tr>\n",
       "    <tr>\n",
       "      <th>18</th>\n",
       "      <td>308</td>\n",
       "      <td>C</td>\n",
       "      <td>11</td>\n",
       "      <td>PM27</td>\n",
       "      <td>2019-09-15T18:00:00</td>\n",
       "      <td>18:00:00</td>\n",
       "    </tr>\n",
       "    <tr>\n",
       "      <th>19</th>\n",
       "      <td>302</td>\n",
       "      <td>C</td>\n",
       "      <td>75</td>\n",
       "      <td>PM28</td>\n",
       "      <td>2019-09-15T18:00:00</td>\n",
       "      <td>18:00:00</td>\n",
       "    </tr>\n",
       "    <tr>\n",
       "      <th>20</th>\n",
       "      <td>221</td>\n",
       "      <td>C</td>\n",
       "      <td>81</td>\n",
       "      <td>TM36</td>\n",
       "      <td>2019-09-15T18:00:00</td>\n",
       "      <td>18:00:00</td>\n",
       "    </tr>\n",
       "    <tr>\n",
       "      <th>21</th>\n",
       "      <td>238</td>\n",
       "      <td>C</td>\n",
       "      <td>116</td>\n",
       "      <td>TM37</td>\n",
       "      <td>2019-09-15T18:00:00</td>\n",
       "      <td>18:00:00</td>\n",
       "    </tr>\n",
       "    <tr>\n",
       "      <th>22</th>\n",
       "      <td>362</td>\n",
       "      <td>C</td>\n",
       "      <td>123</td>\n",
       "      <td>T50</td>\n",
       "      <td>2019-09-15T18:00:00</td>\n",
       "      <td>18:00:00</td>\n",
       "    </tr>\n",
       "    <tr>\n",
       "      <th>23</th>\n",
       "      <td>351</td>\n",
       "      <td>C</td>\n",
       "      <td>88</td>\n",
       "      <td>T51</td>\n",
       "      <td>2019-09-15T18:00:00</td>\n",
       "      <td>18:00:00</td>\n",
       "    </tr>\n",
       "    <tr>\n",
       "      <th>24</th>\n",
       "      <td>249</td>\n",
       "      <td>C</td>\n",
       "      <td>161</td>\n",
       "      <td>TM43</td>\n",
       "      <td>2019-09-15T18:00:00</td>\n",
       "      <td>18:00:00</td>\n",
       "    </tr>\n",
       "    <tr>\n",
       "      <th>25</th>\n",
       "      <td>30</td>\n",
       "      <td>C</td>\n",
       "      <td>8</td>\n",
       "      <td>T15</td>\n",
       "      <td>2019-09-15T18:00:00</td>\n",
       "      <td>18:00:00</td>\n",
       "    </tr>\n",
       "    <tr>\n",
       "      <th>26</th>\n",
       "      <td>107</td>\n",
       "      <td>C</td>\n",
       "      <td>32</td>\n",
       "      <td>T16</td>\n",
       "      <td>2019-09-15T18:00:00</td>\n",
       "      <td>18:00:00</td>\n",
       "    </tr>\n",
       "    <tr>\n",
       "      <th>27</th>\n",
       "      <td>245</td>\n",
       "      <td>C</td>\n",
       "      <td>45</td>\n",
       "      <td>T17</td>\n",
       "      <td>2019-09-15T18:00:00</td>\n",
       "      <td>18:00:00</td>\n",
       "    </tr>\n",
       "    <tr>\n",
       "      <th>28</th>\n",
       "      <td>84</td>\n",
       "      <td>C</td>\n",
       "      <td>6</td>\n",
       "      <td>T18</td>\n",
       "      <td>2019-09-15T18:00:00</td>\n",
       "      <td>18:00:00</td>\n",
       "    </tr>\n",
       "    <tr>\n",
       "      <th>29</th>\n",
       "      <td>197</td>\n",
       "      <td>C</td>\n",
       "      <td>63</td>\n",
       "      <td>B9</td>\n",
       "      <td>2019-09-15T18:00:00</td>\n",
       "      <td>18:00:00</td>\n",
       "    </tr>\n",
       "    <tr>\n",
       "      <th>...</th>\n",
       "      <td>...</td>\n",
       "      <td>...</td>\n",
       "      <td>...</td>\n",
       "      <td>...</td>\n",
       "      <td>...</td>\n",
       "      <td>...</td>\n",
       "    </tr>\n",
       "    <tr>\n",
       "      <th>2698999</th>\n",
       "      <td>32</td>\n",
       "      <td>C</td>\n",
       "      <td>8</td>\n",
       "      <td>HG2D</td>\n",
       "      <td>2019-07-21T19:00:00</td>\n",
       "      <td>19:00:00</td>\n",
       "    </tr>\n",
       "    <tr>\n",
       "      <th>2699000</th>\n",
       "      <td>350</td>\n",
       "      <td>C</td>\n",
       "      <td>259</td>\n",
       "      <td>J44</td>\n",
       "      <td>2019-07-21T19:00:00</td>\n",
       "      <td>19:00:00</td>\n",
       "    </tr>\n",
       "    <tr>\n",
       "      <th>2699001</th>\n",
       "      <td>452</td>\n",
       "      <td>C</td>\n",
       "      <td>385</td>\n",
       "      <td>U66</td>\n",
       "      <td>2019-07-21T19:00:00</td>\n",
       "      <td>19:00:00</td>\n",
       "    </tr>\n",
       "    <tr>\n",
       "      <th>2699002</th>\n",
       "      <td>300</td>\n",
       "      <td>C</td>\n",
       "      <td>203</td>\n",
       "      <td>U65</td>\n",
       "      <td>2019-07-21T19:00:00</td>\n",
       "      <td>19:00:00</td>\n",
       "    </tr>\n",
       "    <tr>\n",
       "      <th>2699003</th>\n",
       "      <td>425</td>\n",
       "      <td>C</td>\n",
       "      <td>324</td>\n",
       "      <td>W182</td>\n",
       "      <td>2019-07-21T19:00:00</td>\n",
       "      <td>19:00:00</td>\n",
       "    </tr>\n",
       "    <tr>\n",
       "      <th>2699004</th>\n",
       "      <td>540</td>\n",
       "      <td>C</td>\n",
       "      <td>440</td>\n",
       "      <td>W185</td>\n",
       "      <td>2019-07-21T19:00:00</td>\n",
       "      <td>19:00:00</td>\n",
       "    </tr>\n",
       "    <tr>\n",
       "      <th>2699005</th>\n",
       "      <td>762</td>\n",
       "      <td>C</td>\n",
       "      <td>513</td>\n",
       "      <td>Y73M</td>\n",
       "      <td>2019-07-21T19:00:00</td>\n",
       "      <td>19:00:00</td>\n",
       "    </tr>\n",
       "    <tr>\n",
       "      <th>2699006</th>\n",
       "      <td>379</td>\n",
       "      <td>C</td>\n",
       "      <td>291</td>\n",
       "      <td>Y74M</td>\n",
       "      <td>2019-07-21T19:00:00</td>\n",
       "      <td>19:00:00</td>\n",
       "    </tr>\n",
       "    <tr>\n",
       "      <th>2699007</th>\n",
       "      <td>379</td>\n",
       "      <td>C</td>\n",
       "      <td>327</td>\n",
       "      <td>Y75M</td>\n",
       "      <td>2019-07-21T19:00:00</td>\n",
       "      <td>19:00:00</td>\n",
       "    </tr>\n",
       "    <tr>\n",
       "      <th>2699008</th>\n",
       "      <td>421</td>\n",
       "      <td>C</td>\n",
       "      <td>276</td>\n",
       "      <td>Y76M</td>\n",
       "      <td>2019-07-21T19:00:00</td>\n",
       "      <td>19:00:00</td>\n",
       "    </tr>\n",
       "    <tr>\n",
       "      <th>2699009</th>\n",
       "      <td>395</td>\n",
       "      <td>C</td>\n",
       "      <td>310</td>\n",
       "      <td>SB42</td>\n",
       "      <td>2019-07-21T19:00:00</td>\n",
       "      <td>19:00:00</td>\n",
       "    </tr>\n",
       "    <tr>\n",
       "      <th>2699010</th>\n",
       "      <td>3</td>\n",
       "      <td>C</td>\n",
       "      <td>3</td>\n",
       "      <td>S36L</td>\n",
       "      <td>2019-07-21T19:00:00</td>\n",
       "      <td>19:00:00</td>\n",
       "    </tr>\n",
       "    <tr>\n",
       "      <th>2699011</th>\n",
       "      <td>8</td>\n",
       "      <td>C</td>\n",
       "      <td>5</td>\n",
       "      <td>S38L</td>\n",
       "      <td>2019-07-21T19:00:00</td>\n",
       "      <td>19:00:00</td>\n",
       "    </tr>\n",
       "    <tr>\n",
       "      <th>2699012</th>\n",
       "      <td>4</td>\n",
       "      <td>C</td>\n",
       "      <td>4</td>\n",
       "      <td>S40L</td>\n",
       "      <td>2019-07-21T19:00:00</td>\n",
       "      <td>19:00:00</td>\n",
       "    </tr>\n",
       "    <tr>\n",
       "      <th>2699013</th>\n",
       "      <td>85</td>\n",
       "      <td>C</td>\n",
       "      <td>0</td>\n",
       "      <td>N0012</td>\n",
       "      <td>2019-07-21T19:00:00</td>\n",
       "      <td>19:00:00</td>\n",
       "    </tr>\n",
       "    <tr>\n",
       "      <th>2699014</th>\n",
       "      <td>70</td>\n",
       "      <td>C</td>\n",
       "      <td>24</td>\n",
       "      <td>U63</td>\n",
       "      <td>2019-07-21T19:00:00</td>\n",
       "      <td>19:00:00</td>\n",
       "    </tr>\n",
       "    <tr>\n",
       "      <th>2699015</th>\n",
       "      <td>98</td>\n",
       "      <td>C</td>\n",
       "      <td>69</td>\n",
       "      <td>B44B</td>\n",
       "      <td>2019-07-21T19:00:00</td>\n",
       "      <td>19:00:00</td>\n",
       "    </tr>\n",
       "    <tr>\n",
       "      <th>2699016</th>\n",
       "      <td>305</td>\n",
       "      <td>C</td>\n",
       "      <td>256</td>\n",
       "      <td>C28M</td>\n",
       "      <td>2019-07-21T19:00:00</td>\n",
       "      <td>19:00:00</td>\n",
       "    </tr>\n",
       "    <tr>\n",
       "      <th>2699017</th>\n",
       "      <td>100</td>\n",
       "      <td>C</td>\n",
       "      <td>66</td>\n",
       "      <td>TWM4</td>\n",
       "      <td>2019-07-21T19:00:00</td>\n",
       "      <td>19:00:00</td>\n",
       "    </tr>\n",
       "    <tr>\n",
       "      <th>2699018</th>\n",
       "      <td>235</td>\n",
       "      <td>C</td>\n",
       "      <td>114</td>\n",
       "      <td>U54</td>\n",
       "      <td>2019-07-21T19:00:00</td>\n",
       "      <td>19:00:00</td>\n",
       "    </tr>\n",
       "    <tr>\n",
       "      <th>2699019</th>\n",
       "      <td>2</td>\n",
       "      <td>C</td>\n",
       "      <td>0</td>\n",
       "      <td>J8M</td>\n",
       "      <td>2019-07-21T19:00:00</td>\n",
       "      <td>19:00:00</td>\n",
       "    </tr>\n",
       "    <tr>\n",
       "      <th>2699020</th>\n",
       "      <td>402</td>\n",
       "      <td>C</td>\n",
       "      <td>71</td>\n",
       "      <td>Y35</td>\n",
       "      <td>2019-07-21T19:00:00</td>\n",
       "      <td>19:00:00</td>\n",
       "    </tr>\n",
       "    <tr>\n",
       "      <th>2699021</th>\n",
       "      <td>265</td>\n",
       "      <td>C</td>\n",
       "      <td>0</td>\n",
       "      <td>W100</td>\n",
       "      <td>2019-07-21T19:00:00</td>\n",
       "      <td>19:00:00</td>\n",
       "    </tr>\n",
       "    <tr>\n",
       "      <th>2699022</th>\n",
       "      <td>634</td>\n",
       "      <td>C</td>\n",
       "      <td>237</td>\n",
       "      <td>W546</td>\n",
       "      <td>2019-07-21T19:00:00</td>\n",
       "      <td>19:00:00</td>\n",
       "    </tr>\n",
       "    <tr>\n",
       "      <th>2699023</th>\n",
       "      <td>278</td>\n",
       "      <td>C</td>\n",
       "      <td>250</td>\n",
       "      <td>BA1</td>\n",
       "      <td>2019-07-21T19:00:00</td>\n",
       "      <td>19:00:00</td>\n",
       "    </tr>\n",
       "    <tr>\n",
       "      <th>2699024</th>\n",
       "      <td>204</td>\n",
       "      <td>Y</td>\n",
       "      <td>35</td>\n",
       "      <td>C5</td>\n",
       "      <td>2019-07-21T19:00:00</td>\n",
       "      <td>19:00:00</td>\n",
       "    </tr>\n",
       "    <tr>\n",
       "      <th>2699025</th>\n",
       "      <td>258</td>\n",
       "      <td>C</td>\n",
       "      <td>198</td>\n",
       "      <td>U68</td>\n",
       "      <td>2019-07-21T19:00:00</td>\n",
       "      <td>19:00:00</td>\n",
       "    </tr>\n",
       "    <tr>\n",
       "      <th>2699026</th>\n",
       "      <td>549</td>\n",
       "      <td>C</td>\n",
       "      <td>392</td>\n",
       "      <td>SB35</td>\n",
       "      <td>2019-07-21T19:00:00</td>\n",
       "      <td>19:00:00</td>\n",
       "    </tr>\n",
       "    <tr>\n",
       "      <th>2699027</th>\n",
       "      <td>417</td>\n",
       "      <td>C</td>\n",
       "      <td>147</td>\n",
       "      <td>J29</td>\n",
       "      <td>2019-07-21T19:00:00</td>\n",
       "      <td>19:00:00</td>\n",
       "    </tr>\n",
       "    <tr>\n",
       "      <th>2699028</th>\n",
       "      <td>500</td>\n",
       "      <td>C</td>\n",
       "      <td>425</td>\n",
       "      <td>J74M</td>\n",
       "      <td>2019-07-21T19:00:00</td>\n",
       "      <td>19:00:00</td>\n",
       "    </tr>\n",
       "  </tbody>\n",
       "</table>\n",
       "<p>2699029 rows × 6 columns</p>\n",
       "</div>"
      ],
      "text/plain": [
       "         Total Type  Available     ID                 Date      hour\n",
       "0           83    C          0   HE12  2019-09-15T18:00:00  18:00:00\n",
       "1          583    C        385    HLM  2019-09-15T18:00:00  18:00:00\n",
       "2          322    C        215    RHM  2019-09-15T18:00:00  18:00:00\n",
       "3           97    C         55   BM29  2019-09-15T18:00:00  18:00:00\n",
       "4           96    C         53    Q81  2019-09-15T18:00:00  18:00:00\n",
       "5          173    C          2    C20  2019-09-15T18:00:00  18:00:00\n",
       "6          228    C        179   FR3M  2019-09-15T18:00:00  18:00:00\n",
       "7          289    C        170    C32  2019-09-15T18:00:00  18:00:00\n",
       "8          332    C        123     C6  2019-09-15T18:00:00  18:00:00\n",
       "9          273    C        109    TG2  2019-09-15T18:00:00  18:00:00\n",
       "10         543    C        298    BP1  2019-09-15T18:00:00  18:00:00\n",
       "11         133    C         73    TG1  2019-09-15T18:00:00  18:00:00\n",
       "12         189    C        127   TGM2  2019-09-15T18:00:00  18:00:00\n",
       "13         138    C         53   TE14  2019-09-15T18:00:00  18:00:00\n",
       "14          48    C          0    BM3  2019-09-15T18:00:00  18:00:00\n",
       "15         612    C        121    BM9  2019-09-15T18:00:00  18:00:00\n",
       "16         180    C         48   HG44  2019-09-15T18:00:00  18:00:00\n",
       "17          80    C         22   HG64  2019-09-15T18:00:00  18:00:00\n",
       "18         308    C         11   PM27  2019-09-15T18:00:00  18:00:00\n",
       "19         302    C         75   PM28  2019-09-15T18:00:00  18:00:00\n",
       "20         221    C         81   TM36  2019-09-15T18:00:00  18:00:00\n",
       "21         238    C        116   TM37  2019-09-15T18:00:00  18:00:00\n",
       "22         362    C        123    T50  2019-09-15T18:00:00  18:00:00\n",
       "23         351    C         88    T51  2019-09-15T18:00:00  18:00:00\n",
       "24         249    C        161   TM43  2019-09-15T18:00:00  18:00:00\n",
       "25          30    C          8    T15  2019-09-15T18:00:00  18:00:00\n",
       "26         107    C         32    T16  2019-09-15T18:00:00  18:00:00\n",
       "27         245    C         45    T17  2019-09-15T18:00:00  18:00:00\n",
       "28          84    C          6    T18  2019-09-15T18:00:00  18:00:00\n",
       "29         197    C         63     B9  2019-09-15T18:00:00  18:00:00\n",
       "...        ...  ...        ...    ...                  ...       ...\n",
       "2698999     32    C          8   HG2D  2019-07-21T19:00:00  19:00:00\n",
       "2699000    350    C        259    J44  2019-07-21T19:00:00  19:00:00\n",
       "2699001    452    C        385    U66  2019-07-21T19:00:00  19:00:00\n",
       "2699002    300    C        203    U65  2019-07-21T19:00:00  19:00:00\n",
       "2699003    425    C        324   W182  2019-07-21T19:00:00  19:00:00\n",
       "2699004    540    C        440   W185  2019-07-21T19:00:00  19:00:00\n",
       "2699005    762    C        513   Y73M  2019-07-21T19:00:00  19:00:00\n",
       "2699006    379    C        291   Y74M  2019-07-21T19:00:00  19:00:00\n",
       "2699007    379    C        327   Y75M  2019-07-21T19:00:00  19:00:00\n",
       "2699008    421    C        276   Y76M  2019-07-21T19:00:00  19:00:00\n",
       "2699009    395    C        310   SB42  2019-07-21T19:00:00  19:00:00\n",
       "2699010      3    C          3   S36L  2019-07-21T19:00:00  19:00:00\n",
       "2699011      8    C          5   S38L  2019-07-21T19:00:00  19:00:00\n",
       "2699012      4    C          4   S40L  2019-07-21T19:00:00  19:00:00\n",
       "2699013     85    C          0  N0012  2019-07-21T19:00:00  19:00:00\n",
       "2699014     70    C         24    U63  2019-07-21T19:00:00  19:00:00\n",
       "2699015     98    C         69   B44B  2019-07-21T19:00:00  19:00:00\n",
       "2699016    305    C        256   C28M  2019-07-21T19:00:00  19:00:00\n",
       "2699017    100    C         66   TWM4  2019-07-21T19:00:00  19:00:00\n",
       "2699018    235    C        114    U54  2019-07-21T19:00:00  19:00:00\n",
       "2699019      2    C          0    J8M  2019-07-21T19:00:00  19:00:00\n",
       "2699020    402    C         71    Y35  2019-07-21T19:00:00  19:00:00\n",
       "2699021    265    C          0   W100  2019-07-21T19:00:00  19:00:00\n",
       "2699022    634    C        237   W546  2019-07-21T19:00:00  19:00:00\n",
       "2699023    278    C        250    BA1  2019-07-21T19:00:00  19:00:00\n",
       "2699024    204    Y         35     C5  2019-07-21T19:00:00  19:00:00\n",
       "2699025    258    C        198    U68  2019-07-21T19:00:00  19:00:00\n",
       "2699026    549    C        392   SB35  2019-07-21T19:00:00  19:00:00\n",
       "2699027    417    C        147    J29  2019-07-21T19:00:00  19:00:00\n",
       "2699028    500    C        425   J74M  2019-07-21T19:00:00  19:00:00\n",
       "\n",
       "[2699029 rows x 6 columns]"
      ]
     },
     "execution_count": 32,
     "metadata": {},
     "output_type": "execute_result"
    }
   ],
   "source": [
    "df"
   ]
  },
  {
   "cell_type": "code",
   "execution_count": 101,
   "metadata": {
    "ExecuteTime": {
     "end_time": "2019-10-10T09:58:32.126591Z",
     "start_time": "2019-10-10T09:58:32.118641Z"
    }
   },
   "outputs": [],
   "source": [
    "def getSpreadsheetNotation(n):\n",
    "    # Write your code here\n",
    "    row = (n//702) + 1\n",
    "    if n == 702:\n",
    "        row = 1\n",
    "    col = n % 702\n",
    "    if col == 0:\n",
    "        col += 702\n",
    "    col_1 = ''\n",
    "    if col > 26:\n",
    "        if col//26 == 27:\n",
    "            col_1 = 'Z'\n",
    "        else:\n",
    "            col_1 = chr(96+col//26).upper()\n",
    "    if col %26 == 0 :\n",
    "        col_2 = chr(96+ col%26 + 26).upper()\n",
    "    else:\n",
    "        col_2 = chr(96+ col%26 ).upper()\n",
    "    return str(row) + col_1 + col_2"
   ]
  },
  {
   "cell_type": "code",
   "execution_count": 104,
   "metadata": {
    "ExecuteTime": {
     "end_time": "2019-10-10T09:58:49.704779Z",
     "start_time": "2019-10-10T09:58:49.699449Z"
    }
   },
   "outputs": [
    {
     "data": {
      "text/plain": [
       "'2A'"
      ]
     },
     "execution_count": 104,
     "metadata": {},
     "output_type": "execute_result"
    }
   ],
   "source": [
    "getSpreadsheetNotation(703)"
   ]
  },
  {
   "cell_type": "code",
   "execution_count": 96,
   "metadata": {
    "ExecuteTime": {
     "end_time": "2019-10-10T09:56:33.471987Z",
     "start_time": "2019-10-10T09:56:33.466597Z"
    }
   },
   "outputs": [
    {
     "data": {
      "text/plain": [
       "27"
      ]
     },
     "execution_count": 96,
     "metadata": {},
     "output_type": "execute_result"
    }
   ],
   "source": [
    "702//26"
   ]
  },
  {
   "cell_type": "code",
   "execution_count": 59,
   "metadata": {
    "ExecuteTime": {
     "end_time": "2019-10-10T09:48:08.924389Z",
     "start_time": "2019-10-10T09:48:08.919606Z"
    }
   },
   "outputs": [
    {
     "data": {
      "text/plain": [
       "1"
      ]
     },
     "execution_count": 59,
     "metadata": {},
     "output_type": "execute_result"
    }
   ],
   "source": [
    "703//703"
   ]
  },
  {
   "cell_type": "code",
   "execution_count": 24,
   "metadata": {
    "ExecuteTime": {
     "end_time": "2019-10-10T09:32:48.257809Z",
     "start_time": "2019-10-10T09:32:48.252322Z"
    }
   },
   "outputs": [],
   "source": [
    "def CheckMatchingParentheses(inputStr):\n",
    "    openB = 0\n",
    "    closeB = 0 \n",
    "    closed = False\n",
    "    for x in inputStr:\n",
    "        if x == ')' and closeB < openB:\n",
    "            closeB += 1\n",
    "        elif x == '(':\n",
    "            openB += 1\n",
    "    return openB == closeB"
   ]
  },
  {
   "cell_type": "code",
   "execution_count": 25,
   "metadata": {
    "ExecuteTime": {
     "end_time": "2019-10-10T09:32:48.653556Z",
     "start_time": "2019-10-10T09:32:48.648426Z"
    }
   },
   "outputs": [
    {
     "name": "stdout",
     "output_type": "stream",
     "text": [
      "1 1\n"
     ]
    },
    {
     "data": {
      "text/plain": [
       "True"
      ]
     },
     "execution_count": 25,
     "metadata": {},
     "output_type": "execute_result"
    }
   ],
   "source": [
    "CheckMatchingParentheses('(abc)')"
   ]
  },
  {
   "cell_type": "code",
   "execution_count": 27,
   "metadata": {
    "ExecuteTime": {
     "end_time": "2019-10-10T09:33:44.600638Z",
     "start_time": "2019-10-10T09:33:44.595541Z"
    }
   },
   "outputs": [
    {
     "data": {
      "text/plain": [
       "12"
      ]
     },
     "execution_count": 27,
     "metadata": {},
     "output_type": "execute_result"
    }
   ],
   "source": [
    "int('0012')"
   ]
  },
  {
   "cell_type": "code",
   "execution_count": 40,
   "metadata": {
    "ExecuteTime": {
     "end_time": "2019-10-10T09:38:53.677255Z",
     "start_time": "2019-10-10T09:38:53.672901Z"
    }
   },
   "outputs": [],
   "source": [
    "import re\n",
    "def removeTrailingDigits(inputStr):\n",
    "    return re.findall(r'(\\S+\\D+)', inputStr)[0]"
   ]
  },
  {
   "cell_type": "code",
   "execution_count": 45,
   "metadata": {
    "ExecuteTime": {
     "end_time": "2019-10-10T09:39:12.967492Z",
     "start_time": "2019-10-10T09:39:12.962294Z"
    }
   },
   "outputs": [
    {
     "data": {
      "text/plain": [
       "'123A123B12C'"
      ]
     },
     "execution_count": 45,
     "metadata": {},
     "output_type": "execute_result"
    }
   ],
   "source": [
    "removeTrailingDigits('123A123B12C123')"
   ]
  },
  {
   "cell_type": "code",
   "execution_count": null,
   "metadata": {},
   "outputs": [],
   "source": []
  }
 ],
 "metadata": {
  "kernelspec": {
   "display_name": "Python 3",
   "language": "python",
   "name": "python3"
  },
  "language_info": {
   "codemirror_mode": {
    "name": "ipython",
    "version": 3
   },
   "file_extension": ".py",
   "mimetype": "text/x-python",
   "name": "python",
   "nbconvert_exporter": "python",
   "pygments_lexer": "ipython3",
   "version": "3.7.3"
  },
  "toc": {
   "base_numbering": 1,
   "nav_menu": {},
   "number_sections": true,
   "sideBar": true,
   "skip_h1_title": false,
   "title_cell": "Table of Contents",
   "title_sidebar": "Contents",
   "toc_cell": false,
   "toc_position": {},
   "toc_section_display": true,
   "toc_window_display": false
  },
  "varInspector": {
   "cols": {
    "lenName": 16,
    "lenType": 16,
    "lenVar": 40
   },
   "kernels_config": {
    "python": {
     "delete_cmd_postfix": "",
     "delete_cmd_prefix": "del ",
     "library": "var_list.py",
     "varRefreshCmd": "print(var_dic_list())"
    },
    "r": {
     "delete_cmd_postfix": ") ",
     "delete_cmd_prefix": "rm(",
     "library": "var_list.r",
     "varRefreshCmd": "cat(var_dic_list()) "
    }
   },
   "types_to_exclude": [
    "module",
    "function",
    "builtin_function_or_method",
    "instance",
    "_Feature"
   ],
   "window_display": false
  }
 },
 "nbformat": 4,
 "nbformat_minor": 2
}
